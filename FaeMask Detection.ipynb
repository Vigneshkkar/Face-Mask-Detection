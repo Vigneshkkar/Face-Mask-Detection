{
 "cells": [
  {
   "cell_type": "code",
   "execution_count": 29,
   "id": "6fdf99c4-ec28-43dc-a9d6-b52a2e26051e",
   "metadata": {},
   "outputs": [],
   "source": [
    "from tensorflow.keras.optimizers import RMSprop\n",
    "from tensorflow.keras.preprocessing.image import ImageDataGenerator\n",
    "import cv2\n",
    "from tensorflow.keras.models import Sequential\n",
    "from tensorflow.keras.layers import Conv2D, Input, ZeroPadding2D, BatchNormalization, Activation, MaxPooling2D, Flatten, Dense,Dropout\n",
    "from tensorflow.keras.models import Model, load_model\n",
    "from tensorflow.keras.callbacks import TensorBoard, ModelCheckpoint\n",
    "from sklearn.model_selection import train_test_split\n",
    "from sklearn.metrics import f1_score\n",
    "from sklearn.utils import shuffle\n",
    "import imutils\n",
    "import numpy as np"
   ]
  },
  {
   "cell_type": "code",
   "execution_count": 30,
   "id": "d9487f2f-7b53-4b74-96a8-a60ad80683ac",
   "metadata": {},
   "outputs": [
    {
     "name": "stdout",
     "output_type": "stream",
     "text": [
      "Found 1314 images belonging to 2 classes.\n",
      "Found 194 images belonging to 2 classes.\n"
     ]
    }
   ],
   "source": [
    "model =Sequential([\n",
    "    Conv2D(100, (3,3), activation='relu', input_shape=(150, 150, 3)),\n",
    "    MaxPooling2D(2,2),\n",
    "    \n",
    "    Conv2D(100, (3,3), activation='relu'),\n",
    "    MaxPooling2D(2,2),\n",
    "    \n",
    "    Flatten(),\n",
    "    Dropout(0.5),\n",
    "    Dense(50, activation='relu'),\n",
    "    Dense(2, activation='softmax')\n",
    "])\n",
    "model.compile(optimizer='adam', loss='binary_crossentropy', metrics=['acc'])\n",
    "\n",
    "TRAINING_DIR = \"./Dataset/train\"\n",
    "train_datagen = ImageDataGenerator(rescale=1.0/255,\n",
    "                                   rotation_range=40,\n",
    "                                   width_shift_range=0.2,\n",
    "                                   height_shift_range=0.2,\n",
    "                                   shear_range=0.2,\n",
    "                                   zoom_range=0.2,\n",
    "                                   horizontal_flip=True,\n",
    "                                   fill_mode='nearest')\n",
    "\n",
    "train_generator = train_datagen.flow_from_directory(TRAINING_DIR, \n",
    "                                                    batch_size=10, \n",
    "                                                    target_size=(150, 150))\n",
    "VALIDATION_DIR = \"./Dataset/test\"\n",
    "validation_datagen = ImageDataGenerator(rescale=1.0/255)\n",
    "\n",
    "validation_generator = validation_datagen.flow_from_directory(VALIDATION_DIR, \n",
    "                                                         batch_size=10, \n",
    "                                                         target_size=(150, 150))\n",
    "checkpoint = ModelCheckpoint('model2-{epoch:03d}.model',monitor='val_loss',verbose=0,save_best_only=True,mode='auto')"
   ]
  },
  {
   "cell_type": "code",
   "execution_count": 31,
   "id": "5031de10",
   "metadata": {},
   "outputs": [],
   "source": [
    "import PIL\n",
    "from pathlib import Path\n",
    "from PIL import UnidentifiedImageError\n",
    "\n",
    "path = Path(\"./Dataset/test\").rglob(\"*.jpg\")\n",
    "for img_p in path:\n",
    "    try:\n",
    "        img = PIL.Image.open(img_p)\n",
    "    except PIL.UnidentifiedImageError:\n",
    "            print(img_p)"
   ]
  },
  {
   "cell_type": "code",
   "execution_count": 32,
   "id": "700335e4",
   "metadata": {},
   "outputs": [
    {
     "name": "stdout",
     "output_type": "stream",
     "text": [
      "Epoch 1/30\n",
      "132/132 [==============================] - ETA: 0s - loss: 0.5881 - acc: 0.7314INFO:tensorflow:Assets written to: model2-001.model/assets\n",
      "132/132 [==============================] - 45s 338ms/step - loss: 0.5881 - acc: 0.7314 - val_loss: 0.1480 - val_acc: 0.9433\n",
      "Epoch 2/30\n",
      "132/132 [==============================] - ETA: 0s - loss: 0.3271 - acc: 0.8866INFO:tensorflow:Assets written to: model2-002.model/assets\n",
      "132/132 [==============================] - 44s 329ms/step - loss: 0.3271 - acc: 0.8866 - val_loss: 0.1050 - val_acc: 0.9742\n",
      "Epoch 3/30\n",
      "132/132 [==============================] - ETA: 0s - loss: 0.2511 - acc: 0.9094INFO:tensorflow:Assets written to: model2-003.model/assets\n",
      "132/132 [==============================] - 46s 350ms/step - loss: 0.2511 - acc: 0.9094 - val_loss: 0.0940 - val_acc: 0.9742\n",
      "Epoch 4/30\n",
      "132/132 [==============================] - ETA: 0s - loss: 0.2427 - acc: 0.9170INFO:tensorflow:Assets written to: model2-004.model/assets\n",
      "132/132 [==============================] - 46s 348ms/step - loss: 0.2427 - acc: 0.9170 - val_loss: 0.0519 - val_acc: 0.9845\n",
      "Epoch 5/30\n",
      "132/132 [==============================] - 47s 356ms/step - loss: 0.1969 - acc: 0.9262 - val_loss: 0.0583 - val_acc: 0.9845\n",
      "Epoch 6/30\n",
      "132/132 [==============================] - 43s 328ms/step - loss: 0.2285 - acc: 0.9216 - val_loss: 0.0564 - val_acc: 0.9742\n",
      "Epoch 7/30\n",
      "132/132 [==============================] - 41s 313ms/step - loss: 0.1972 - acc: 0.9247 - val_loss: 0.0569 - val_acc: 0.9845\n",
      "Epoch 8/30\n",
      "132/132 [==============================] - 41s 309ms/step - loss: 0.2517 - acc: 0.9072 - val_loss: 0.0741 - val_acc: 0.9742\n",
      "Epoch 9/30\n",
      "132/132 [==============================] - 41s 307ms/step - loss: 0.1834 - acc: 0.9353 - val_loss: 0.1964 - val_acc: 0.9072\n",
      "Epoch 10/30\n",
      "132/132 [==============================] - 43s 324ms/step - loss: 0.2145 - acc: 0.9231 - val_loss: 0.0639 - val_acc: 0.9691\n",
      "Epoch 11/30\n",
      "132/132 [==============================] - 42s 317ms/step - loss: 0.1739 - acc: 0.9429 - val_loss: 0.0736 - val_acc: 0.9845\n",
      "Epoch 12/30\n",
      "132/132 [==============================] - 43s 322ms/step - loss: 0.1636 - acc: 0.9414 - val_loss: 0.0553 - val_acc: 0.9845\n",
      "Epoch 13/30\n",
      "132/132 [==============================] - ETA: 0s - loss: 0.1467 - acc: 0.9460INFO:tensorflow:Assets written to: model2-013.model/assets\n",
      "132/132 [==============================] - 40s 302ms/step - loss: 0.1467 - acc: 0.9460 - val_loss: 0.0234 - val_acc: 0.9948\n",
      "Epoch 14/30\n",
      "132/132 [==============================] - 41s 312ms/step - loss: 0.1452 - acc: 0.9460 - val_loss: 0.0508 - val_acc: 0.9691\n",
      "Epoch 15/30\n",
      "132/132 [==============================] - 42s 320ms/step - loss: 0.1633 - acc: 0.9505 - val_loss: 0.0443 - val_acc: 0.9897\n",
      "Epoch 16/30\n",
      "132/132 [==============================] - 40s 299ms/step - loss: 0.1488 - acc: 0.9475 - val_loss: 0.0967 - val_acc: 0.9588\n",
      "Epoch 17/30\n",
      "132/132 [==============================] - 39s 292ms/step - loss: 0.1304 - acc: 0.9551 - val_loss: 0.0269 - val_acc: 0.9897\n",
      "Epoch 18/30\n",
      "132/132 [==============================] - 40s 302ms/step - loss: 0.1391 - acc: 0.9498 - val_loss: 0.0423 - val_acc: 0.9897\n",
      "Epoch 19/30\n",
      "132/132 [==============================] - ETA: 0s - loss: 0.1399 - acc: 0.9467INFO:tensorflow:Assets written to: model2-019.model/assets\n",
      "132/132 [==============================] - 40s 304ms/step - loss: 0.1399 - acc: 0.9467 - val_loss: 0.0196 - val_acc: 0.9948\n",
      "Epoch 20/30\n",
      "132/132 [==============================] - 40s 302ms/step - loss: 0.1350 - acc: 0.9505 - val_loss: 0.0614 - val_acc: 0.9794\n",
      "Epoch 21/30\n",
      "132/132 [==============================] - 40s 304ms/step - loss: 0.1198 - acc: 0.9566 - val_loss: 0.1338 - val_acc: 0.9381\n",
      "Epoch 22/30\n",
      "132/132 [==============================] - 42s 314ms/step - loss: 0.1230 - acc: 0.9589 - val_loss: 0.0625 - val_acc: 0.9639\n",
      "Epoch 23/30\n",
      "132/132 [==============================] - 40s 306ms/step - loss: 0.1540 - acc: 0.9429 - val_loss: 0.0522 - val_acc: 0.9845\n",
      "Epoch 24/30\n",
      "132/132 [==============================] - 43s 327ms/step - loss: 0.1287 - acc: 0.9490 - val_loss: 0.0322 - val_acc: 0.9897\n",
      "Epoch 25/30\n",
      "132/132 [==============================] - 41s 307ms/step - loss: 0.1412 - acc: 0.9528 - val_loss: 0.0365 - val_acc: 0.9897\n",
      "Epoch 26/30\n",
      "132/132 [==============================] - 41s 307ms/step - loss: 0.1213 - acc: 0.9574 - val_loss: 0.1257 - val_acc: 0.9381\n",
      "Epoch 27/30\n",
      "132/132 [==============================] - 39s 295ms/step - loss: 0.1156 - acc: 0.9536 - val_loss: 0.0472 - val_acc: 0.9691\n",
      "Epoch 28/30\n",
      "132/132 [==============================] - 39s 295ms/step - loss: 0.1237 - acc: 0.9581 - val_loss: 0.0741 - val_acc: 0.9691\n",
      "Epoch 29/30\n",
      "132/132 [==============================] - 39s 298ms/step - loss: 0.1445 - acc: 0.9513 - val_loss: 0.0235 - val_acc: 0.9897\n",
      "Epoch 30/30\n",
      "132/132 [==============================] - 39s 298ms/step - loss: 0.1098 - acc: 0.9597 - val_loss: 0.0246 - val_acc: 0.9845\n"
     ]
    }
   ],
   "source": [
    "history = model.fit(train_generator,\n",
    "                              epochs=30,\n",
    "                              validation_data=validation_generator,\n",
    "                              callbacks=[checkpoint])"
   ]
  }
 ],
 "metadata": {
  "kernelspec": {
   "display_name": "Python 3",
   "language": "python",
   "name": "python3"
  },
  "language_info": {
   "codemirror_mode": {
    "name": "ipython",
    "version": 3
   },
   "file_extension": ".py",
   "mimetype": "text/x-python",
   "name": "python",
   "nbconvert_exporter": "python",
   "pygments_lexer": "ipython3",
   "version": "3.8.8"
  }
 },
 "nbformat": 4,
 "nbformat_minor": 5
}
